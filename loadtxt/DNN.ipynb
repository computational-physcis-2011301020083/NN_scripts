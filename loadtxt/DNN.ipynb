{
 "cells": [
  {
   "cell_type": "code",
   "execution_count": 1,
   "metadata": {},
   "outputs": [],
   "source": [
    "from pandas import read_csv\n",
    "import numpy as np\n",
    "#from keras.saving import load_model\n",
    "import keras\n",
    "from keras.models import load_model\n",
    "from keras.models import Sequential\n",
    "from keras.layers import Dense, SimpleRNN,GRU,LSTM\n",
    "from sklearn.preprocessing import MinMaxScaler\n",
    "from sklearn.metrics import mean_squared_error\n",
    "import math\n",
    "import matplotlib.pyplot as plt\n",
    "import tensorflow as tf\n",
    "from decimal import Decimal"
   ]
  },
  {
   "cell_type": "code",
   "execution_count": 27,
   "metadata": {},
   "outputs": [
    {
     "name": "stdout",
     "output_type": "stream",
     "text": [
      "(19997, 12)\n"
     ]
    }
   ],
   "source": [
    "itxt=\"5.txt\"\n",
    "np1=np.loadtxt(itxt)\n",
    "print(np1.shape)"
   ]
  },
  {
   "cell_type": "code",
   "execution_count": 2,
   "metadata": {},
   "outputs": [
    {
     "name": "stdout",
     "output_type": "stream",
     "text": [
      "[[1670.05     0.       0.       0.       0.      68.585    0.       0.\n",
      "    36.36   -11.32   -88.09 ]] (19997, 11)\n"
     ]
    }
   ],
   "source": [
    "itxt=\"5.txt\"\n",
    "with open(itxt,\"r\") as f:\n",
    "    datalist = f.readlines()\n",
    "datanp=np.zeros((len(datalist),11))\n",
    "count=0\n",
    "for i in datalist:\n",
    "    datai=i.split(\"\\n\")[0].split(\"\\t\")\n",
    "    for j in range(11):\n",
    "        datanp[count:count+1,j]=Decimal(datai[j])\n",
    "    count=count+1\n",
    "print(datanp[0:1,:],datanp.shape)"
   ]
  },
  {
   "cell_type": "code",
   "execution_count": 3,
   "metadata": {},
   "outputs": [
    {
     "name": "stdout",
     "output_type": "stream",
     "text": [
      "[[880.11         0.           0.           0.           0.\n",
      "   67.8328125    0.           0.          36.51       -11.24690476\n",
      "  -89.22      ]] (15991, 11)\n"
     ]
    }
   ],
   "source": [
    "itxt1=\"7.txt\"\n",
    "with open(itxt1,\"r\") as f:\n",
    "    datalist1 = f.readlines()\n",
    "datanp1=np.zeros((len(datalist1),11))\n",
    "count1=0\n",
    "for i in datalist1:\n",
    "    datai=i.split(\"\\n\")[0].split(\"\\t\")\n",
    "    for j in range(11):\n",
    "        datanp1[count1:count1+1,j]=Decimal(datai[j])\n",
    "    count1=count1+1\n",
    "print(datanp1[0:1,:],datanp1.shape)"
   ]
  },
  {
   "cell_type": "code",
   "execution_count": 4,
   "metadata": {},
   "outputs": [
    {
     "name": "stdout",
     "output_type": "stream",
     "text": [
      "[[1130.2        0.         0.         0.         0.        57.60125\n",
      "     0.         0.        36.09     -11.28     -92.71   ]] (16982, 11)\n"
     ]
    }
   ],
   "source": [
    "itxt2=\"13.txt\"\n",
    "with open(itxt2,\"r\") as f:\n",
    "    datalist2 = f.readlines()\n",
    "datanp2=np.zeros((len(datalist2),11))\n",
    "count2=0\n",
    "for i in datalist2:\n",
    "    datai=i.split(\"\\n\")[0].split(\"\\t\")\n",
    "    for j in range(11):\n",
    "        datanp2[count2:count2+1,j]=Decimal(datai[j])\n",
    "    count2=count2+1\n",
    "print(datanp2[0:1,:],datanp2.shape)"
   ]
  },
  {
   "cell_type": "code",
   "execution_count": 5,
   "metadata": {},
   "outputs": [
    {
     "name": "stdout",
     "output_type": "stream",
     "text": [
      "(17997, 11)\n"
     ]
    }
   ],
   "source": [
    "datanp=datanp[2000:,]\n",
    "print(datanp.shape)"
   ]
  },
  {
   "cell_type": "code",
   "execution_count": 6,
   "metadata": {},
   "outputs": [],
   "source": [
    "lpwm=datanp[:,1:2]*datanp[:,3:4]\n",
    "rpwm=datanp[:,2:3]*datanp[:,4:5]*(-1)\n",
    "pwm=lpwm+rpwm\n",
    "v=datanp[:,6:7]\n",
    "\n",
    "lpwm1=datanp1[:,1:2]*datanp1[:,3:4]\n",
    "rpwm1=datanp1[:,2:3]*datanp1[:,4:5]*(-1)\n",
    "pwm1=lpwm1+rpwm1\n",
    "v1=datanp1[:,6:7]"
   ]
  },
  {
   "cell_type": "code",
   "execution_count": 11,
   "metadata": {},
   "outputs": [],
   "source": [
    "lpwm2=datanp2[:,1:2]*datanp2[:,3:4]\n",
    "rpwm2=datanp2[:,2:3]*datanp2[:,4:5]*(-1)\n",
    "pwm2=lpwm2+rpwm2\n",
    "v2=datanp2[:,6:7]\n",
    "val_data = np.hstack((v2,pwm2))"
   ]
  },
  {
   "cell_type": "code",
   "execution_count": 12,
   "metadata": {},
   "outputs": [
    {
     "data": {
      "text/plain": [
       "(17997, 2)"
      ]
     },
     "execution_count": 12,
     "metadata": {},
     "output_type": "execute_result"
    }
   ],
   "source": [
    "train_data = np.hstack((v,pwm))\n",
    "test_data = np.hstack((v1,pwm1))\n",
    "train_data.shape"
   ]
  },
  {
   "cell_type": "code",
   "execution_count": 17,
   "metadata": {},
   "outputs": [],
   "source": [
    "def create_DNN( dense_units, input_shape, activation):\n",
    "    model = Sequential()\n",
    "    model.add(Dense(units=dense_units, input_shape=input_shape, activation=activation[0]))\n",
    "    model.add(Dense(units=dense_units, activation=activation[0]))\n",
    "    model.add(Dense(units=dense_units, activation=activation[0]))\n",
    "    model.add(Dense(units=1, activation=activation[1]))\n",
    "    model.compile(loss='mean_squared_error', optimizer='adam')\n",
    "    return model\n",
    "model = create_DNN(dense_units=100, input_shape=(1,), activation=['relu', 'linear']) "
   ]
  },
  {
   "cell_type": "code",
   "execution_count": 18,
   "metadata": {},
   "outputs": [
    {
     "name": "stdout",
     "output_type": "stream",
     "text": [
      "Epoch 1/100\n",
      "563/563 [==============================] - 3s 4ms/step - loss: 0.0282 - val_loss: 0.0242\n",
      "Epoch 2/100\n",
      "563/563 [==============================] - 2s 4ms/step - loss: 0.0258 - val_loss: 0.0223\n",
      "Epoch 3/100\n",
      "563/563 [==============================] - 2s 4ms/step - loss: 0.0252 - val_loss: 0.0223\n",
      "Epoch 4/100\n",
      "563/563 [==============================] - 2s 4ms/step - loss: 0.0253 - val_loss: 0.0227\n",
      "Epoch 5/100\n",
      "563/563 [==============================] - 2s 4ms/step - loss: 0.0251 - val_loss: 0.0225\n",
      "Epoch 6/100\n",
      "563/563 [==============================] - 2s 4ms/step - loss: 0.0251 - val_loss: 0.0221\n",
      "Epoch 7/100\n",
      "563/563 [==============================] - 2s 4ms/step - loss: 0.0251 - val_loss: 0.0223\n",
      "Epoch 8/100\n",
      "563/563 [==============================] - 2s 4ms/step - loss: 0.0250 - val_loss: 0.0225\n",
      "Epoch 9/100\n",
      "563/563 [==============================] - 2s 3ms/step - loss: 0.0250 - val_loss: 0.0220\n",
      "Epoch 10/100\n",
      "563/563 [==============================] - 2s 3ms/step - loss: 0.0250 - val_loss: 0.0225\n",
      "Epoch 11/100\n",
      "563/563 [==============================] - 2s 3ms/step - loss: 0.0250 - val_loss: 0.0231\n",
      "Epoch 12/100\n",
      "563/563 [==============================] - 2s 3ms/step - loss: 0.0250 - val_loss: 0.0229\n",
      "Epoch 13/100\n",
      "563/563 [==============================] - 3s 4ms/step - loss: 0.0249 - val_loss: 0.0225\n",
      "Epoch 14/100\n",
      "563/563 [==============================] - 2s 4ms/step - loss: 0.0250 - val_loss: 0.0224\n",
      "Epoch 15/100\n",
      "563/563 [==============================] - 2s 3ms/step - loss: 0.0249 - val_loss: 0.0222\n",
      "Epoch 16/100\n",
      "563/563 [==============================] - 2s 3ms/step - loss: 0.0249 - val_loss: 0.0224\n",
      "Epoch 17/100\n",
      "563/563 [==============================] - 2s 3ms/step - loss: 0.0249 - val_loss: 0.0221\n",
      "Epoch 18/100\n",
      "563/563 [==============================] - 2s 3ms/step - loss: 0.0248 - val_loss: 0.0224\n",
      "Epoch 19/100\n",
      "563/563 [==============================] - 2s 3ms/step - loss: 0.0248 - val_loss: 0.0225\n",
      "Epoch 20/100\n",
      "563/563 [==============================] - 2s 3ms/step - loss: 0.0248 - val_loss: 0.0221\n",
      "Epoch 21/100\n",
      "563/563 [==============================] - 2s 4ms/step - loss: 0.0248 - val_loss: 0.0220\n",
      "Epoch 22/100\n",
      "563/563 [==============================] - 2s 3ms/step - loss: 0.0248 - val_loss: 0.0222\n",
      "Epoch 23/100\n",
      "563/563 [==============================] - 2s 3ms/step - loss: 0.0248 - val_loss: 0.0224\n",
      "Epoch 24/100\n",
      "563/563 [==============================] - 2s 3ms/step - loss: 0.0248 - val_loss: 0.0222\n",
      "Epoch 25/100\n",
      "563/563 [==============================] - 2s 3ms/step - loss: 0.0248 - val_loss: 0.0221\n",
      "Epoch 26/100\n",
      "563/563 [==============================] - 2s 3ms/step - loss: 0.0248 - val_loss: 0.0222\n",
      "Epoch 27/100\n",
      "563/563 [==============================] - 2s 3ms/step - loss: 0.0248 - val_loss: 0.0221\n",
      "Epoch 28/100\n",
      "563/563 [==============================] - 2s 3ms/step - loss: 0.0248 - val_loss: 0.0222\n",
      "Epoch 29/100\n",
      "563/563 [==============================] - 2s 3ms/step - loss: 0.0247 - val_loss: 0.0221\n",
      "Epoch 30/100\n",
      "563/563 [==============================] - 2s 3ms/step - loss: 0.0248 - val_loss: 0.0223\n",
      "Epoch 31/100\n",
      "563/563 [==============================] - 2s 3ms/step - loss: 0.0247 - val_loss: 0.0221\n",
      "Epoch 32/100\n",
      "563/563 [==============================] - 2s 3ms/step - loss: 0.0247 - val_loss: 0.0221\n",
      "Epoch 33/100\n",
      "563/563 [==============================] - 2s 3ms/step - loss: 0.0247 - val_loss: 0.0222\n",
      "Epoch 34/100\n",
      "563/563 [==============================] - 2s 3ms/step - loss: 0.0248 - val_loss: 0.0221\n",
      "Epoch 35/100\n",
      "563/563 [==============================] - 2s 4ms/step - loss: 0.0247 - val_loss: 0.0220\n",
      "Epoch 36/100\n",
      "563/563 [==============================] - 2s 3ms/step - loss: 0.0248 - val_loss: 0.0221\n",
      "Epoch 37/100\n",
      "563/563 [==============================] - 2s 3ms/step - loss: 0.0247 - val_loss: 0.0221\n",
      "Epoch 38/100\n",
      "563/563 [==============================] - 2s 3ms/step - loss: 0.0247 - val_loss: 0.0224\n",
      "Epoch 39/100\n",
      "563/563 [==============================] - 2s 3ms/step - loss: 0.0247 - val_loss: 0.0222\n",
      "Epoch 40/100\n",
      "563/563 [==============================] - 2s 3ms/step - loss: 0.0247 - val_loss: 0.0223\n",
      "Epoch 41/100\n",
      "563/563 [==============================] - 2s 3ms/step - loss: 0.0247 - val_loss: 0.0219\n",
      "Epoch 42/100\n",
      "563/563 [==============================] - 2s 3ms/step - loss: 0.0247 - val_loss: 0.0222\n",
      "Epoch 43/100\n",
      "563/563 [==============================] - 2s 3ms/step - loss: 0.0247 - val_loss: 0.0220\n",
      "Epoch 44/100\n",
      "563/563 [==============================] - 2s 3ms/step - loss: 0.0247 - val_loss: 0.0219\n",
      "Epoch 45/100\n",
      "563/563 [==============================] - 2s 3ms/step - loss: 0.0247 - val_loss: 0.0222\n",
      "Epoch 46/100\n",
      "563/563 [==============================] - 2s 3ms/step - loss: 0.0247 - val_loss: 0.0221\n",
      "Epoch 47/100\n",
      "563/563 [==============================] - 2s 3ms/step - loss: 0.0247 - val_loss: 0.0219\n",
      "Epoch 48/100\n",
      "563/563 [==============================] - 2s 3ms/step - loss: 0.0247 - val_loss: 0.0223\n",
      "Epoch 49/100\n",
      "563/563 [==============================] - 2s 3ms/step - loss: 0.0247 - val_loss: 0.0220\n",
      "Epoch 50/100\n",
      "563/563 [==============================] - 2s 3ms/step - loss: 0.0247 - val_loss: 0.0220\n",
      "Epoch 51/100\n",
      "563/563 [==============================] - 2s 4ms/step - loss: 0.0247 - val_loss: 0.0221\n",
      "Epoch 52/100\n",
      "563/563 [==============================] - 2s 3ms/step - loss: 0.0247 - val_loss: 0.0225\n",
      "Epoch 53/100\n",
      "563/563 [==============================] - 2s 4ms/step - loss: 0.0247 - val_loss: 0.0223\n",
      "Epoch 54/100\n",
      "563/563 [==============================] - 2s 3ms/step - loss: 0.0247 - val_loss: 0.0223\n",
      "Epoch 55/100\n",
      "563/563 [==============================] - 2s 3ms/step - loss: 0.0247 - val_loss: 0.0221\n",
      "Epoch 56/100\n",
      "563/563 [==============================] - 2s 3ms/step - loss: 0.0247 - val_loss: 0.0224\n",
      "Epoch 57/100\n",
      "563/563 [==============================] - 2s 3ms/step - loss: 0.0247 - val_loss: 0.0222\n",
      "Epoch 58/100\n",
      "563/563 [==============================] - 2s 3ms/step - loss: 0.0247 - val_loss: 0.0222\n",
      "Epoch 59/100\n",
      "563/563 [==============================] - 2s 3ms/step - loss: 0.0247 - val_loss: 0.0222\n",
      "Epoch 60/100\n",
      "563/563 [==============================] - 2s 3ms/step - loss: 0.0247 - val_loss: 0.0220\n",
      "Epoch 61/100\n",
      "563/563 [==============================] - 2s 3ms/step - loss: 0.0247 - val_loss: 0.0219\n",
      "Epoch 62/100\n",
      "563/563 [==============================] - 2s 3ms/step - loss: 0.0247 - val_loss: 0.0221\n",
      "Epoch 63/100\n",
      "563/563 [==============================] - 2s 3ms/step - loss: 0.0247 - val_loss: 0.0226\n",
      "Epoch 64/100\n",
      "563/563 [==============================] - 2s 3ms/step - loss: 0.0247 - val_loss: 0.0223\n",
      "Epoch 65/100\n",
      "563/563 [==============================] - 2s 3ms/step - loss: 0.0248 - val_loss: 0.0223\n",
      "Epoch 66/100\n",
      "563/563 [==============================] - 2s 3ms/step - loss: 0.0247 - val_loss: 0.0220\n",
      "Epoch 67/100\n",
      "563/563 [==============================] - 3s 5ms/step - loss: 0.0247 - val_loss: 0.0221\n",
      "Epoch 68/100\n",
      "563/563 [==============================] - 2s 4ms/step - loss: 0.0247 - val_loss: 0.0224\n",
      "Epoch 69/100\n",
      "563/563 [==============================] - 2s 4ms/step - loss: 0.0247 - val_loss: 0.0220\n",
      "Epoch 70/100\n",
      "563/563 [==============================] - 3s 5ms/step - loss: 0.0247 - val_loss: 0.0220\n",
      "Epoch 71/100\n",
      "563/563 [==============================] - 3s 4ms/step - loss: 0.0247 - val_loss: 0.0225\n",
      "Epoch 72/100\n",
      "563/563 [==============================] - 3s 6ms/step - loss: 0.0247 - val_loss: 0.0222\n",
      "Epoch 73/100\n",
      "563/563 [==============================] - 3s 5ms/step - loss: 0.0247 - val_loss: 0.0221\n",
      "Epoch 74/100\n",
      "563/563 [==============================] - 2s 4ms/step - loss: 0.0247 - val_loss: 0.0223\n",
      "Epoch 75/100\n",
      "563/563 [==============================] - 2s 4ms/step - loss: 0.0247 - val_loss: 0.0224\n",
      "Epoch 76/100\n",
      "563/563 [==============================] - 2s 3ms/step - loss: 0.0248 - val_loss: 0.0221\n",
      "Epoch 77/100\n",
      "563/563 [==============================] - 2s 3ms/step - loss: 0.0247 - val_loss: 0.0222\n",
      "Epoch 78/100\n",
      "563/563 [==============================] - 2s 3ms/step - loss: 0.0247 - val_loss: 0.0221\n",
      "Epoch 79/100\n",
      "563/563 [==============================] - 2s 4ms/step - loss: 0.0247 - val_loss: 0.0221\n",
      "Epoch 80/100\n",
      "563/563 [==============================] - 2s 4ms/step - loss: 0.0247 - val_loss: 0.0222\n",
      "Epoch 81/100\n"
     ]
    },
    {
     "name": "stdout",
     "output_type": "stream",
     "text": [
      "563/563 [==============================] - 2s 3ms/step - loss: 0.0247 - val_loss: 0.0221\n",
      "Epoch 82/100\n",
      "563/563 [==============================] - 2s 3ms/step - loss: 0.0247 - val_loss: 0.0221\n",
      "Epoch 83/100\n",
      "563/563 [==============================] - 2s 4ms/step - loss: 0.0247 - val_loss: 0.0222\n",
      "Epoch 84/100\n",
      "563/563 [==============================] - 2s 3ms/step - loss: 0.0247 - val_loss: 0.0229\n",
      "Epoch 85/100\n",
      "563/563 [==============================] - 2s 3ms/step - loss: 0.0247 - val_loss: 0.0224\n",
      "Epoch 86/100\n",
      "563/563 [==============================] - 2s 3ms/step - loss: 0.0247 - val_loss: 0.0223\n",
      "Epoch 87/100\n",
      "563/563 [==============================] - 2s 3ms/step - loss: 0.0247 - val_loss: 0.0221\n",
      "Epoch 88/100\n",
      "563/563 [==============================] - 2s 3ms/step - loss: 0.0247 - val_loss: 0.0220\n",
      "Epoch 89/100\n",
      "563/563 [==============================] - 2s 3ms/step - loss: 0.0247 - val_loss: 0.0222\n",
      "Epoch 90/100\n",
      "563/563 [==============================] - 2s 3ms/step - loss: 0.0247 - val_loss: 0.0221\n",
      "Epoch 91/100\n",
      "563/563 [==============================] - 2s 3ms/step - loss: 0.0247 - val_loss: 0.0219\n",
      "Epoch 92/100\n",
      "563/563 [==============================] - 2s 3ms/step - loss: 0.0247 - val_loss: 0.0222\n",
      "Epoch 93/100\n",
      "563/563 [==============================] - 2s 3ms/step - loss: 0.0247 - val_loss: 0.0221\n",
      "Epoch 94/100\n",
      "563/563 [==============================] - 2s 3ms/step - loss: 0.0247 - val_loss: 0.0219\n",
      "Epoch 95/100\n",
      "563/563 [==============================] - 2s 3ms/step - loss: 0.0247 - val_loss: 0.0221\n",
      "Epoch 96/100\n",
      "563/563 [==============================] - 2s 3ms/step - loss: 0.0247 - val_loss: 0.0221\n",
      "Epoch 97/100\n",
      "563/563 [==============================] - 2s 3ms/step - loss: 0.0247 - val_loss: 0.0221\n",
      "Epoch 98/100\n",
      "563/563 [==============================] - 2s 3ms/step - loss: 0.0247 - val_loss: 0.0224\n",
      "Epoch 99/100\n",
      "563/563 [==============================] - 2s 3ms/step - loss: 0.0247 - val_loss: 0.0223\n",
      "Epoch 100/100\n",
      "563/563 [==============================] - 2s 3ms/step - loss: 0.0247 - val_loss: 0.0222\n"
     ]
    },
    {
     "data": {
      "text/plain": [
       "<keras.callbacks.History at 0x7f2c4c790e48>"
      ]
     },
     "execution_count": 18,
     "metadata": {},
     "output_type": "execute_result"
    }
   ],
   "source": [
    "model.fit(train_data[:,0:1], train_data[:,1:2],validation_data=(test_data[:,0:1], test_data[:,1:2]), epochs=100)"
   ]
  },
  {
   "cell_type": "code",
   "execution_count": 26,
   "metadata": {},
   "outputs": [
    {
     "data": {
      "image/png": "[encoded data removed]",
      "text/plain": [
       "<Figure size 432x288 with 1 Axes>"
      ]
     },
     "metadata": {
      "needs_background": "light"
     },
     "output_type": "display_data"
    }
   ],
   "source": [
    "#y_test=model.predict(train_data[:,0:1])\n",
    "#y_test=model.predict(test_data[:,0:1])\n",
    "y_test=model.predict(val_data[:,0:1])\n",
    "t=np.linspace(0, len(y_test), num=len(y_test))\n",
    "plt.figure()\n",
    "plt.plot(t,y_test, color='blue', marker=' ', linestyle='solid',linewidth=0.3, markersize=5,label=\"predictions\")\n",
    "#plt.plot(t,test_data[:,1:2], color='red', marker=' ', linestyle='solid',linewidth=0.3, markersize=5, label=\"nominal\")\n",
    "#plt.plot(t,train_data[:,1:2], color='red', marker=' ', linestyle='solid',linewidth=0.3, markersize=5, label=\"nominal\")\n",
    "plt.plot(t,val_data[:,1:2], color='red', marker=' ', linestyle='solid',linewidth=0.3, markersize=5, label=\"nominal\")\n",
    "plt.legend(loc='best')\n",
    "plt.xlabel(\"count\")\n",
    "plt.ylabel(\"test_data\")\n",
    "pngf=\"test1_NN.png\"\n",
    "plt.savefig(pngf, dpi=500)"
   ]
  },
  {
   "cell_type": "code",
   "execution_count": 24,
   "metadata": {},
   "outputs": [
    {
     "name": "stdout",
     "output_type": "stream",
     "text": [
      "INFO:tensorflow:Assets written to: NN_vpwm/assets\n"
     ]
    },
    {
     "data": {
      "text/plain": [
       "0"
      ]
     },
     "execution_count": 24,
     "metadata": {},
     "output_type": "execute_result"
    }
   ],
   "source": [
    "model.save(\"NN_vpwm\")\n",
    "os.system(\"python3 -m tf2onnx.convert --saved-model NN_vpwm --output NN_vpwm.onnx --opset 13\")"
   ]
  },
  {
   "cell_type": "code",
   "execution_count": 25,
   "metadata": {},
   "outputs": [
    {
     "data": {
      "text/plain": [
       "array([[-0.02780545]], dtype=float32)"
      ]
     },
     "execution_count": 25,
     "metadata": {},
     "output_type": "execute_result"
    }
   ],
   "source": [
    "model.predict([[0.2]])"
   ]
  },
  {
   "cell_type": "code",
   "execution_count": 22,
   "metadata": {},
   "outputs": [
    {
     "data": {
      "text/plain": [
       "'/home/weiding/Loader'"
      ]
     },
     "execution_count": 22,
     "metadata": {},
     "output_type": "execute_result"
    }
   ],
   "source": [
    "import os\n",
    "os.getcwd()"
   ]
  }
 ],
 "metadata": {
  "kernelspec": {
   "display_name": "Python 3",
   "language": "python",
   "name": "python3"
  },
  "language_info": {
   "codemirror_mode": {
    "name": "ipython",
    "version": 3
   },
   "file_extension": ".py",
   "mimetype": "text/x-python",
   "name": "python",
   "nbconvert_exporter": "python",
   "pygments_lexer": "ipython3",
   "version": "3.6.9"
  }
 },
 "nbformat": 4,
 "nbformat_minor": 4
}
