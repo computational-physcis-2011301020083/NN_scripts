{
 "cells": [
  {
   "cell_type": "code",
   "execution_count": 11,
   "id": "57db6945-24ea-4b84-b5ac-6d5133d5aaf9",
   "metadata": {},
   "outputs": [],
   "source": [
    "from pandas import read_csv\n",
    "import numpy as np\n",
    "#from keras.saving import load_model\n",
    "import keras\n",
    "from keras.models import load_model\n",
    "from keras.models import Sequential\n",
    "from keras.layers import Dense, SimpleRNN,GRU,LSTM\n",
    "from sklearn.preprocessing import MinMaxScaler\n",
    "from sklearn.metrics import mean_squared_error\n",
    "import math\n",
    "import matplotlib.pyplot as plt\n",
    "import tensorflow as tf"
   ]
  },
  {
   "cell_type": "code",
   "execution_count": 2,
   "id": "9ee05cae-9b50-44f0-ab3c-ff5803480be5",
   "metadata": {},
   "outputs": [
    {
     "name": "stdout",
     "output_type": "stream",
     "text": [
      "['1670.05\\t0\\t0\\t0\\t0\\t68.585\\t0\\t0\\t36.36\\t-11.32\\t-88.09\\t0\\n', '1670.06\\t0\\t0\\t0\\t0\\t68.585\\t0\\t0\\t36.36\\t-11.32\\t-88.08\\t0\\n', '1670.07\\t0\\t0\\t0\\t0\\t68.585\\t0\\t0\\t36.36\\t-11.32\\t-88.07\\t0\\n', '1670.08\\t0\\t0\\t0\\t0\\t68.585\\t0\\t0\\t36.36\\t-11.32\\t-88.07\\t0\\n'] 7253\n",
      "(19997, 11) 7253\n"
     ]
    }
   ],
   "source": [
    "itxt=\"data_demo_2.txt\"\n",
    "with open(itxt,\"r\") as f:\n",
    "    datalist = f.readlines()\n",
    "print(datalist[0:4],len(datalist))\n",
    "datanp=np.zeros((19997,11))\n",
    "print(datanp.shape,len(datalist))"
   ]
  },
  {
   "cell_type": "code",
   "execution_count": 3,
   "id": "078420ac-c6e0-4f4e-8710-2a3267bc0004",
   "metadata": {},
   "outputs": [
    {
     "name": "stdout",
     "output_type": "stream",
     "text": [
      "[[1670.05     0.       0.       0.       0.      68.585    0.       0.\n",
      "    36.36   -11.32   -88.09 ]\n",
      " [1670.06     0.       0.       0.       0.      68.585    0.       0.\n",
      "    36.36   -11.32   -88.08 ]\n",
      " [1670.07     0.       0.       0.       0.      68.585    0.       0.\n",
      "    36.36   -11.32   -88.07 ]] (19997, 11)\n"
     ]
    }
   ],
   "source": [
    "count=0\n",
    "for i in datalist:\n",
    "    datai=i.split(\"\\n\")[0].split(\"\\t\")\n",
    "    #print(datai)\n",
    "    for j in range(11):\n",
    "        #print(j)\n",
    "        datanp[count:count+1,j]=float(datai[j])\n",
    "    count=count+1\n",
    "print(datanp[0:3,:],datanp.shape)"
   ]
  },
  {
   "cell_type": "code",
   "execution_count": 9,
   "id": "c7970052-7cb1-4d7d-844f-2313720fe8f2",
   "metadata": {},
   "outputs": [
    {
     "name": "stdout",
     "output_type": "stream",
     "text": [
      "(19997, 1)\n",
      "(19996, 1)\n",
      "(19996, 5)\n"
     ]
    }
   ],
   "source": [
    "A=datanp[:,5:6]\n",
    "print(A.shape)\n",
    "A_=A[1:]\n",
    "print(A_.shape)\n",
    "inputs=np.hstack((datanp[0:19996,1:5],A_))\n",
    "print(inputs.shape)"
   ]
  },
  {
   "cell_type": "code",
   "execution_count": 14,
   "id": "a7d82e54-dc64-411a-9dd1-f0b8d4e44ea9",
   "metadata": {},
   "outputs": [
    {
     "name": "stdout",
     "output_type": "stream",
     "text": [
      "625/625 [==============================] - 1s 2ms/step - loss: 0.0115 - mse: 0.0115\n",
      "Epoch 90/100\n",
      "625/625 [==============================] - 1s 2ms/step - loss: 0.0069 - mse: 0.0069\n",
      "Epoch 91/100\n",
      "625/625 [==============================] - 1s 2ms/step - loss: 0.0090 - mse: 0.0090\n",
      "Epoch 92/100\n",
      "625/625 [==============================] - 1s 2ms/step - loss: 0.0142 - mse: 0.0142\n",
      "Epoch 93/100\n",
      "625/625 [==============================] - 1s 2ms/step - loss: 0.0057 - mse: 0.0057\n",
      "Epoch 94/100\n",
      "625/625 [==============================] - 1s 2ms/step - loss: 0.0186 - mse: 0.0186\n",
      "Epoch 95/100\n",
      "625/625 [==============================] - 1s 2ms/step - loss: 0.0052 - mse: 0.0052\n",
      "Epoch 96/100\n",
      "625/625 [==============================] - 1s 2ms/step - loss: 0.0093 - mse: 0.0093\n",
      "Epoch 97/100\n",
      "625/625 [==============================] - 1s 2ms/step - loss: 0.0108 - mse: 0.0108\n",
      "Epoch 98/100\n",
      "625/625 [==============================] - 1s 1ms/step - loss: 0.0066 - mse: 0.0066\n",
      "Epoch 99/100\n",
      "625/625 [==============================] - 1s 2ms/step - loss: 0.0181 - mse: 0.0181\n",
      "Epoch 100/100\n",
      "625/625 [==============================] - 1s 1ms/step - loss: 0.0054 - mse: 0.0054\n"
     ]
    },
    {
     "data": {
      "text/plain": [
       "<keras.callbacks.History at 0x7ff1383bdf98>"
      ]
     },
     "execution_count": 14,
     "metadata": {},
     "output_type": "execute_result"
    }
   ],
   "source": [
    "tf.random.set_seed(452)\n",
    "model = tf.keras.Sequential([\n",
    "  tf.keras.layers.Dense(100,activation='relu',input_shape=[5]), \n",
    "  tf.keras.layers.Dense(100,activation='relu'), \n",
    "  tf.keras.layers.Dense(100,activation='relu'),                            \n",
    "  tf.keras.layers.Dense(1,activation='linear')])\n",
    "model.compile(loss = tf.keras.losses.mse,optimizer =tf.keras.optimizers.Adam(lr=0.001),metrics= ['mse'])\n",
    "#Fit the model\n",
    "model.fit(inputs, A[:19996],epochs=100)"
   ]
  },
  {
   "cell_type": "code",
   "execution_count": 16,
   "id": "32740c46-1ea3-4044-8761-81066f893263",
   "metadata": {},
   "outputs": [
    {
     "data": {
      "text/plain": [
       "Text(0, 0.5, 'val_data')"
      ]
     },
     "execution_count": 16,
     "metadata": {},
     "output_type": "execute_result"
    },
    {
     "data": {
      "image/png": "[encoded data removed]",
      "text/plain": [
       "<Figure size 432x288 with 1 Axes>"
      ]
     },
     "metadata": {
      "needs_background": "light"
     },
     "output_type": "display_data"
    }
   ],
   "source": [
    "y=model.predict(inputs)\n",
    "t=np.linspace(0, len(y), num=len(y))\n",
    "plt.figure()\n",
    "plt.plot(t,A[:19996], color='blue', marker=' ', linestyle='solid',linewidth=0.3, markersize=5,label=\"predictions\")\n",
    "plt.plot(t,y, color='red', marker=' ', linestyle='solid',linewidth=0.3, markersize=5, label=\"nominal\")\n",
    "plt.legend(loc='best')\n",
    "plt.xlabel(\"count\")\n",
    "plt.ylabel(\"val_data\")\n",
    "#pngf=\"Bijia1.png\"\n",
    "#plt.savefig(pngf, dpi=500)\n"
   ]
  },
  {
   "cell_type": "code",
   "execution_count": null,
   "id": "a7f14851-1217-415a-8be7-02cc1db8d3fe",
   "metadata": {},
   "outputs": [],
   "source": []
  }
 ],
 "metadata": {
  "kernelspec": {
   "display_name": "Python 3",
   "language": "python",
   "name": "python3"
  },
  "language_info": {
   "codemirror_mode": {
    "name": "ipython",
    "version": 3
   },
   "file_extension": ".py",
   "mimetype": "text/x-python",
   "name": "python",
   "nbconvert_exporter": "python",
   "pygments_lexer": "ipython3",
   "version": "3.6.9"
  }
 },
 "nbformat": 4,
 "nbformat_minor": 5
}
