{
 "cells": [
  {
   "cell_type": "code",
   "execution_count": 30,
   "metadata": {},
   "outputs": [],
   "source": [
    "import numpy as np\n",
    "from keras.models import Sequential\n",
    "from keras.layers import Dense, Conv1D, Flatten\n",
    "from keras.optimizers import Adam\n",
    "import matplotlib.pyplot as plt"
   ]
  },
  {
   "cell_type": "code",
   "execution_count": 8,
   "metadata": {},
   "outputs": [
    {
     "name": "stdout",
     "output_type": "stream",
     "text": [
      "(100, 10, 1) (100,)\n"
     ]
    }
   ],
   "source": [
    "# Generate random 1D data\n",
    "X = np.random.rand(100, 10, 1)\n",
    "y = np.random.randint(0, 2, 100)\n",
    "print(X.shape,y.shape)\n",
    "#print(X)\n",
    "#print(y)"
   ]
  },
  {
   "cell_type": "code",
   "execution_count": null,
   "metadata": {},
   "outputs": [],
   "source": [
    "itxt=\"5.txt\"\n",
    "with open(itxt,\"r\") as f:\n",
    "    datalist = f.readlines()\n",
    "datanp=np.zeros((len(datalist),11))\n",
    "itxt1=\"7.txt\"\n",
    "with open(itxt1,\"r\") as f:\n",
    "    datalist1 = f.readlines()\n",
    "datanp1=np.zeros((len(datalist1),11))\n",
    "\n",
    "count=0\n",
    "for i in datalist:\n",
    "    datai=i.split(\"\\n\")[0].split(\"\\t\")\n",
    "    #print(datai)\n",
    "    for j in range(11):\n",
    "        #print(j)\n",
    "        datanp[count:count+1,j]=float(datai[j])\n",
    "    count=count+1\n",
    "print(datanp[0:3,:],datanp.shape)\n",
    "count1=0\n",
    "for i in datalist1:\n",
    "    datai=i.split(\"\\n\")[0].split(\"\\t\")\n",
    "    #print(datai)\n",
    "    for j in range(11):\n",
    "        #print(j)\n",
    "        datanp1[count1:count1+1,j]=float(datai[j])\n",
    "    count1=count1+1\n",
    "print(datanp1[0:3,:],datanp1.shape)\n"
   ]
  },
  {
   "cell_type": "code",
   "execution_count": 12,
   "metadata": {},
   "outputs": [
    {
     "name": "stdout",
     "output_type": "stream",
     "text": [
      "(1999, 10, 11) (1999, 11)\n",
      "(1599, 10, 11) (1599, 11)\n"
     ]
    }
   ],
   "source": [
    "train_data = datanp\n",
    "test_data = datanp1\n",
    "def get_XY(dat, time_steps):\n",
    "    # Indices of target array\n",
    "    Y_ind = np.arange(time_steps, dat.shape[0], time_steps)\n",
    "    Y = dat[Y_ind,:]\n",
    "    # Prepare X\n",
    "    rows_x = Y.shape[0]\n",
    "    X = dat[range(time_steps*rows_x),:]\n",
    "    X = np.reshape(X, (rows_x, time_steps, 11))    \n",
    "    return X, Y\n",
    "time_steps = 10\n",
    "trainX, trainY = get_XY(train_data, time_steps)\n",
    "testX, testY = get_XY(test_data, time_steps)\n",
    "print(trainX.shape,trainY.shape)\n",
    "print(testX.shape,testY.shape)"
   ]
  },
  {
   "cell_type": "code",
   "execution_count": 31,
   "metadata": {},
   "outputs": [],
   "source": [
    "# Create model\n",
    "model = Sequential()\n",
    "# Add model layers\n",
    "model.add(Conv1D(100, kernel_size=5, activation='relu', input_shape=(10, 4)))\n",
    "model.add(Conv1D(100, kernel_size=5, activation='relu'))\n",
    "model.add(Flatten())\n",
    "model.add(Dense(1, activation='linear'))\n",
    "# Compile model\n",
    "#model.compile(optimizer='adam', loss='mean_squared_error')\n",
    "model.compile(optimizer=Adam(learning_rate=1e-4), loss='mean_squared_error')\n",
    "# Fit model\n",
    "#model.fit(X, y, epochs=5, validation_split=0.2)"
   ]
  },
  {
   "cell_type": "code",
   "execution_count": null,
   "metadata": {},
   "outputs": [],
   "source": [
    "tY="
   ]
  },
  {
   "cell_type": "code",
   "execution_count": 41,
   "metadata": {},
   "outputs": [
    {
     "name": "stdout",
     "output_type": "stream",
     "text": [
      "Epoch 1/50\n",
      "63/63 [==============================] - 1s 19ms/step - loss: 8.3958 - val_loss: 1.9002\n",
      "Epoch 2/50\n",
      "63/63 [==============================] - 1s 16ms/step - loss: 1.7336 - val_loss: 1.9392\n",
      "Epoch 3/50\n",
      "63/63 [==============================] - 1s 15ms/step - loss: 1.7222 - val_loss: 1.9561\n",
      "Epoch 4/50\n",
      "63/63 [==============================] - 1s 18ms/step - loss: 1.7211 - val_loss: 1.9666\n",
      "Epoch 5/50\n",
      "63/63 [==============================] - 1s 17ms/step - loss: 1.7206 - val_loss: 1.9475\n",
      "Epoch 6/50\n",
      "63/63 [==============================] - 1s 12ms/step - loss: 1.7184 - val_loss: 1.9640\n",
      "Epoch 7/50\n",
      "63/63 [==============================] - 1s 19ms/step - loss: 1.7183 - val_loss: 1.9480\n",
      "Epoch 8/50\n",
      "63/63 [==============================] - 1s 16ms/step - loss: 1.7190 - val_loss: 1.9534\n",
      "Epoch 9/50\n",
      "63/63 [==============================] - 1s 12ms/step - loss: 1.7199 - val_loss: 1.9441\n",
      "Epoch 10/50\n",
      "63/63 [==============================] - 1s 14ms/step - loss: 1.7163 - val_loss: 1.9533\n",
      "Epoch 11/50\n",
      "63/63 [==============================] - 1s 14ms/step - loss: 1.7159 - val_loss: 1.9363\n",
      "Epoch 12/50\n",
      "63/63 [==============================] - 1s 14ms/step - loss: 1.7170 - val_loss: 1.9625\n",
      "Epoch 13/50\n",
      "63/63 [==============================] - 1s 13ms/step - loss: 1.7115 - val_loss: 1.9435\n",
      "Epoch 14/50\n",
      "63/63 [==============================] - 1s 10ms/step - loss: 1.7119 - val_loss: 1.9339\n",
      "Epoch 15/50\n",
      "63/63 [==============================] - 1s 13ms/step - loss: 1.7175 - val_loss: 1.9333\n",
      "Epoch 16/50\n",
      "63/63 [==============================] - 1s 12ms/step - loss: 1.7122 - val_loss: 1.9496\n",
      "Epoch 17/50\n",
      "63/63 [==============================] - 1s 12ms/step - loss: 1.7125 - val_loss: 1.9538\n",
      "Epoch 18/50\n",
      "63/63 [==============================] - 1s 15ms/step - loss: 1.7085 - val_loss: 1.9391\n",
      "Epoch 19/50\n",
      "63/63 [==============================] - 1s 16ms/step - loss: 1.7124 - val_loss: 2.0013\n",
      "Epoch 20/50\n",
      "63/63 [==============================] - 1s 15ms/step - loss: 1.7158 - val_loss: 1.9531\n",
      "Epoch 21/50\n",
      "63/63 [==============================] - 1s 17ms/step - loss: 1.7104 - val_loss: 1.9880\n",
      "Epoch 22/50\n",
      "63/63 [==============================] - 1s 18ms/step - loss: 1.7128 - val_loss: 1.9425\n",
      "Epoch 23/50\n",
      "63/63 [==============================] - 1s 14ms/step - loss: 1.7100 - val_loss: 1.9544\n",
      "Epoch 24/50\n",
      "63/63 [==============================] - 1s 18ms/step - loss: 1.7058 - val_loss: 1.9742\n",
      "Epoch 25/50\n",
      "63/63 [==============================] - 1s 17ms/step - loss: 1.7120 - val_loss: 1.9565\n",
      "Epoch 26/50\n",
      "63/63 [==============================] - 1s 13ms/step - loss: 1.7044 - val_loss: 1.9673\n",
      "Epoch 27/50\n",
      "63/63 [==============================] - 1s 17ms/step - loss: 1.7099 - val_loss: 1.9565\n",
      "Epoch 28/50\n",
      "63/63 [==============================] - 1s 17ms/step - loss: 1.7098 - val_loss: 1.9579\n",
      "Epoch 29/50\n",
      "63/63 [==============================] - 1s 13ms/step - loss: 1.7067 - val_loss: 1.9957\n",
      "Epoch 30/50\n",
      "63/63 [==============================] - 1s 16ms/step - loss: 1.7108 - val_loss: 1.9787\n",
      "Epoch 31/50\n",
      "63/63 [==============================] - 1s 14ms/step - loss: 1.7073 - val_loss: 1.9719\n",
      "Epoch 32/50\n",
      "63/63 [==============================] - 1s 16ms/step - loss: 1.7039 - val_loss: 1.9643\n",
      "Epoch 33/50\n",
      "63/63 [==============================] - 1s 9ms/step - loss: 1.7081 - val_loss: 2.0114\n",
      "Epoch 34/50\n",
      "63/63 [==============================] - 1s 11ms/step - loss: 1.7165 - val_loss: 1.9357\n",
      "Epoch 35/50\n",
      "63/63 [==============================] - 1s 9ms/step - loss: 1.7162 - val_loss: 1.9366\n",
      "Epoch 36/50\n",
      "63/63 [==============================] - 1s 11ms/step - loss: 1.7072 - val_loss: 1.9854\n",
      "Epoch 37/50\n",
      "63/63 [==============================] - 1s 11ms/step - loss: 1.7128 - val_loss: 1.9742\n",
      "Epoch 38/50\n",
      "63/63 [==============================] - 1s 12ms/step - loss: 1.7069 - val_loss: 1.9632\n",
      "Epoch 39/50\n",
      "63/63 [==============================] - 1s 14ms/step - loss: 1.7036 - val_loss: 1.9504\n",
      "Epoch 40/50\n",
      "63/63 [==============================] - 1s 13ms/step - loss: 1.7056 - val_loss: 1.9560\n",
      "Epoch 41/50\n",
      "63/63 [==============================] - 1s 11ms/step - loss: 1.7050 - val_loss: 1.9582\n",
      "Epoch 42/50\n",
      "63/63 [==============================] - 1s 13ms/step - loss: 1.7014 - val_loss: 1.9353\n",
      "Epoch 43/50\n",
      "63/63 [==============================] - 1s 12ms/step - loss: 1.7049 - val_loss: 1.9355\n",
      "Epoch 44/50\n",
      "63/63 [==============================] - 1s 13ms/step - loss: 1.7076 - val_loss: 1.9445\n",
      "Epoch 45/50\n",
      "63/63 [==============================] - 1s 13ms/step - loss: 1.6990 - val_loss: 1.9622\n",
      "Epoch 46/50\n",
      "63/63 [==============================] - 1s 16ms/step - loss: 1.7041 - val_loss: 1.9922\n",
      "Epoch 47/50\n",
      "63/63 [==============================] - 1s 14ms/step - loss: 1.7023 - val_loss: 1.9743\n",
      "Epoch 48/50\n",
      "63/63 [==============================] - 1s 15ms/step - loss: 1.7067 - val_loss: 1.9733\n",
      "Epoch 49/50\n",
      "63/63 [==============================] - 2s 29ms/step - loss: 1.7036 - val_loss: 1.9771\n",
      "Epoch 50/50\n",
      "63/63 [==============================] - 1s 14ms/step - loss: 1.7079 - val_loss: 1.9831\n"
     ]
    },
    {
     "data": {
      "text/plain": [
       "<keras.callbacks.History at 0x1d01a3ad2d0>"
      ]
     },
     "execution_count": 41,
     "metadata": {},
     "output_type": "execute_result"
    }
   ],
   "source": [
    "# Fit model\n",
    "model.fit(trainX[:,:,1:5], 0.1*trainY[:,5:6]-6.8585, validation_data=(testX[:,:,1:5], 0.1*testY[:,5:6]-6.8585),epochs=50)"
   ]
  },
  {
   "cell_type": "code",
   "execution_count": 42,
   "metadata": {},
   "outputs": [
    {
     "name": "stdout",
     "output_type": "stream",
     "text": [
      "63/63 [==============================] - 0s 5ms/step\n",
      "50/50 [==============================] - 1s 7ms/step\n"
     ]
    },
    {
     "data": {
      "image/png": "[encoded data removed]",
      "text/plain": [
       "<Figure size 432x288 with 1 Axes>"
      ]
     },
     "metadata": {
      "needs_background": "light"
     },
     "output_type": "display_data"
    }
   ],
   "source": [
    "train_predict = model.predict(trainX[:,:,1:5])\n",
    "test_predict = model.predict(testX[:,:,1:5])\n",
    "t=range(train_predict.shape[0])\n",
    "plt.figure()\n",
    "plt.plot(t,(train_predict+6.8585)*10, color='blue', marker=' ', linestyle='solid',linewidth=0.5, markersize=5,label=\"predictions\")\n",
    "plt.plot(t,trainY[:,5:6], color='red', marker=' ', linestyle='solid',linewidth=0.5, markersize=5, label=\"nominals\")\n",
    "plt.legend(loc='best')\n",
    "plt.xlabel(\"count\")\n",
    "plt.ylabel(\"value\")\n",
    "#plt.yscale(\"log\")\n",
    "pngf=\"CNN6p911.pdf\"\n",
    "plt.savefig(pngf, dpi=500)"
   ]
  }
 ],
 "metadata": {
  "kernelspec": {
   "display_name": "Python 3",
   "language": "python",
   "name": "python3"
  },
  "language_info": {
   "codemirror_mode": {
    "name": "ipython",
    "version": 3
   },
   "file_extension": ".py",
   "mimetype": "text/x-python",
   "name": "python",
   "nbconvert_exporter": "python",
   "pygments_lexer": "ipython3",
   "version": "3.10.6"
  },
  "orig_nbformat": 4
 },
 "nbformat": 4,
 "nbformat_minor": 2
}
