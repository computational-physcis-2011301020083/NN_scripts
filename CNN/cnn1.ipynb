{
 "cells": [
  {
   "cell_type": "code",
   "execution_count": 8,
   "metadata": {},
   "outputs": [],
   "source": [
    "import numpy as np\n",
    "from keras.models import Sequential\n",
    "from keras.layers import Dense, Conv1D, Flatten"
   ]
  },
  {
   "cell_type": "code",
   "execution_count": 10,
   "metadata": {},
   "outputs": [],
   "source": [
    "# Generate random 1D data\n",
    "X = np.random.rand(100, 10, 1)\n",
    "y = np.random.randint(0, 2, 100)"
   ]
  },
  {
   "cell_type": "code",
   "execution_count": 11,
   "metadata": {},
   "outputs": [],
   "source": [
    "# Create model\n",
    "model = Sequential()\n",
    "\n",
    "# Add model layers\n",
    "model.add(Conv1D(64, kernel_size=3, activation='relu', input_shape=(10, 1)))\n",
    "model.add(Conv1D(32, kernel_size=3, activation='relu'))\n",
    "model.add(Flatten())\n",
    "model.add(Dense(1, activation='sigmoid'))"
   ]
  },
  {
   "cell_type": "code",
   "execution_count": 12,
   "metadata": {},
   "outputs": [
    {
     "name": "stdout",
     "output_type": "stream",
     "text": [
      "Epoch 1/5\n",
      "3/3 [==============================] - 2s 186ms/step - loss: 0.6932 - accuracy: 0.5000 - val_loss: 0.7051 - val_accuracy: 0.4500\n",
      "Epoch 2/5\n",
      "3/3 [==============================] - 0s 30ms/step - loss: 0.6877 - accuracy: 0.5375 - val_loss: 0.7087 - val_accuracy: 0.4500\n",
      "Epoch 3/5\n",
      "3/3 [==============================] - 0s 32ms/step - loss: 0.6851 - accuracy: 0.5625 - val_loss: 0.7118 - val_accuracy: 0.4500\n",
      "Epoch 4/5\n",
      "3/3 [==============================] - 0s 40ms/step - loss: 0.6825 - accuracy: 0.5625 - val_loss: 0.7150 - val_accuracy: 0.4500\n",
      "Epoch 5/5\n",
      "3/3 [==============================] - 0s 38ms/step - loss: 0.6816 - accuracy: 0.5625 - val_loss: 0.7188 - val_accuracy: 0.4500\n"
     ]
    },
    {
     "data": {
      "text/plain": [
       "<keras.callbacks.History at 0x168eaf6bc40>"
      ]
     },
     "execution_count": 12,
     "metadata": {},
     "output_type": "execute_result"
    }
   ],
   "source": [
    "# Compile model\n",
    "model.compile(optimizer='adam', loss='binary_crossentropy', metrics=['accuracy'])\n",
    "\n",
    "# Fit model\n",
    "model.fit(X, y, epochs=5, validation_split=0.2)"
   ]
  }
 ],
 "metadata": {
  "kernelspec": {
   "display_name": "Python 3",
   "language": "python",
   "name": "python3"
  },
  "language_info": {
   "codemirror_mode": {
    "name": "ipython",
    "version": 3
   },
   "file_extension": ".py",
   "mimetype": "text/x-python",
   "name": "python",
   "nbconvert_exporter": "python",
   "pygments_lexer": "ipython3",
   "version": "3.10.6"
  },
  "orig_nbformat": 4
 },
 "nbformat": 4,
 "nbformat_minor": 2
}
