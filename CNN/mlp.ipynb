{
 "cells": [
  {
   "cell_type": "code",
   "execution_count": 3,
   "metadata": {},
   "outputs": [
    {
     "name": "stderr",
     "output_type": "stream",
     "text": [
      "c:\\Python310\\lib\\site-packages\\sklearn\\neural_network\\_multilayer_perceptron.py:686: ConvergenceWarning: Stochastic Optimizer: Maximum iterations (500) reached and the optimization hasn't converged yet.\n",
      "  warnings.warn(\n"
     ]
    },
    {
     "data": {
      "text/plain": [
       "0.4162338898076595"
      ]
     },
     "execution_count": 3,
     "metadata": {},
     "output_type": "execute_result"
    }
   ],
   "source": [
    "from sklearn.neural_network import MLPRegressor\n",
    "from sklearn.datasets import make_regression\n",
    "from sklearn.model_selection import train_test_split\n",
    "X, y = make_regression(n_samples=200, random_state=1)\n",
    "X_train, X_test, y_train, y_test = train_test_split(X, y, random_state=1)\n",
    "regr = MLPRegressor(random_state=1, max_iter=500).fit(X_train, y_train)\n",
    "regr.predict(X_test[:2])\n",
    "regr.score(X_test, y_test)"
   ]
  },
  {
   "cell_type": "code",
   "execution_count": 5,
   "metadata": {},
   "outputs": [
    {
     "name": "stdout",
     "output_type": "stream",
     "text": [
      "(150, 100) (150,)\n"
     ]
    }
   ],
   "source": [
    "print(X_train.shape,y_train.shape)"
   ]
  },
  {
   "cell_type": "code",
   "execution_count": 13,
   "metadata": {},
   "outputs": [
    {
     "name": "stdout",
     "output_type": "stream",
     "text": [
      "[[1670.05     0.       0.       0.       0.      68.585    0.       0.\n",
      "    36.36   -11.32   -88.09 ]\n",
      " [1670.06     0.       0.       0.       0.      68.585    0.       0.\n",
      "    36.36   -11.32   -88.08 ]\n",
      " [1670.07     0.       0.       0.       0.      68.585    0.       0.\n",
      "    36.36   -11.32   -88.07 ]] (19997, 11)\n",
      "[[880.11         0.           0.           0.           0.\n",
      "   67.8328125    0.           0.          36.51       -11.24690476\n",
      "  -89.22      ]\n",
      " [880.12         0.           0.           0.           0.\n",
      "   67.8328125    0.           0.          36.51       -11.24928571\n",
      "  -89.22      ]\n",
      " [880.13         0.           0.           0.           0.\n",
      "   67.8328125    0.           0.          36.51       -11.25\n",
      "  -89.22      ]] (15991, 11)\n"
     ]
    }
   ],
   "source": [
    "import numpy as np\n",
    "itxt=\"5.txt\"\n",
    "with open(itxt,\"r\") as f:\n",
    "    datalist = f.readlines()\n",
    "datanp=np.zeros((len(datalist),11))\n",
    "itxt1=\"7.txt\"\n",
    "with open(itxt1,\"r\") as f:\n",
    "    datalist1 = f.readlines()\n",
    "datanp1=np.zeros((len(datalist1),11))\n",
    "\n",
    "count=0\n",
    "for i in datalist:\n",
    "    datai=i.split(\"\\n\")[0].split(\"\\t\")\n",
    "    #print(datai)\n",
    "    for j in range(11):\n",
    "        #print(j)\n",
    "        datanp[count:count+1,j]=float(datai[j])\n",
    "    count=count+1\n",
    "print(datanp[0:3,:],datanp.shape)\n",
    "count1=0\n",
    "for i in datalist1:\n",
    "    datai=i.split(\"\\n\")[0].split(\"\\t\")\n",
    "    #print(datai)\n",
    "    for j in range(11):\n",
    "        #print(j)\n",
    "        datanp1[count1:count1+1,j]=float(datai[j])\n",
    "    count1=count1+1\n",
    "print(datanp1[0:3,:],datanp1.shape)"
   ]
  },
  {
   "cell_type": "code",
   "execution_count": 14,
   "metadata": {},
   "outputs": [],
   "source": [
    "X_train=datanp[:,1:5]\n",
    "y_train=datanp[:,5:6]\n",
    "X_test=datanp1[:,1:5]\n",
    "y_test=datanp1[:,5:6]"
   ]
  },
  {
   "cell_type": "code",
   "execution_count": 15,
   "metadata": {},
   "outputs": [
    {
     "name": "stderr",
     "output_type": "stream",
     "text": [
      "c:\\Python310\\lib\\site-packages\\sklearn\\neural_network\\_multilayer_perceptron.py:1623: DataConversionWarning: A column-vector y was passed when a 1d array was expected. Please change the shape of y to (n_samples, ), for example using ravel().\n",
      "  y = column_or_1d(y, warn=True)\n"
     ]
    }
   ],
   "source": [
    "from sklearn.neural_network import MLPRegressor\n",
    "from sklearn.datasets import make_regression\n",
    "from sklearn.model_selection import train_test_split\n",
    "regr = MLPRegressor(random_state=1, max_iter=1000).fit(X_train, y_train)\n",
    "#regr.predict(X_test[:2])\n",
    "#regr.score(X_test, y_test)"
   ]
  },
  {
   "cell_type": "code",
   "execution_count": 17,
   "metadata": {},
   "outputs": [
    {
     "name": "stdout",
     "output_type": "stream",
     "text": [
      "(19997,)\n"
     ]
    },
    {
     "data": {
      "image/png": "[encoded data removed]",
      "text/plain": [
       "<Figure size 432x288 with 1 Axes>"
      ]
     },
     "metadata": {
      "needs_background": "light"
     },
     "output_type": "display_data"
    }
   ],
   "source": [
    "import matplotlib.pyplot as plt\n",
    "predict=regr.predict(X_train)\n",
    "print(predict.shape)\n",
    "t=range(predict.shape[0])\n",
    "plt.figure()\n",
    "plt.plot(t,predict, color='blue', marker=' ', linestyle='solid',linewidth=0.5, markersize=5,label=\"predictions\")\n",
    "plt.plot(t,y_train, color='red', marker=' ', linestyle='solid',linewidth=0.5, markersize=5, label=\"nominals\")\n",
    "plt.legend(loc='best')\n",
    "plt.xlabel(\"count\")\n",
    "plt.ylabel(\"value\")\n",
    "plt.yscale(\"log\")\n",
    "pngf=\"CNN6p911111.pdf\"\n",
    "plt.savefig(pngf, dpi=500)"
   ]
  }
 ],
 "metadata": {
  "kernelspec": {
   "display_name": "Python 3",
   "language": "python",
   "name": "python3"
  },
  "language_info": {
   "codemirror_mode": {
    "name": "ipython",
    "version": 3
   },
   "file_extension": ".py",
   "mimetype": "text/x-python",
   "name": "python",
   "nbconvert_exporter": "python",
   "pygments_lexer": "ipython3",
   "version": "3.10.6"
  },
  "orig_nbformat": 4
 },
 "nbformat": 4,
 "nbformat_minor": 2
}
